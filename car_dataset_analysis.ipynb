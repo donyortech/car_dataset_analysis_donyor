{
 "cells": [
  {
   "cell_type": "code",
   "execution_count": null,
   "id": "406604e0-8de3-4b4b-b2d2-b0be34ba43c6",
   "metadata": {},
   "outputs": [],
   "source": []
  }
 ],
 "metadata": {
  "kernelspec": {
   "display_name": "",
   "name": ""
  },
  "language_info": {
   "name": ""
  }
 },
 "nbformat": 4,
 "nbformat_minor": 5
}
