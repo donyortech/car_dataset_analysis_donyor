{
 "cells": [
  {
   "cell_type": "code",
   "execution_count": 1,
   "id": "406604e0-8de3-4b4b-b2d2-b0be34ba43c6",
   "metadata": {},
   "outputs": [
    {
     "name": "stdout",
     "output_type": "stream",
     "text": [
      "Dastlabki ma'lumotlar:\n",
      "     make    model  year  engine_size  horsepower  price fuel_type  \\\n",
      "0  Toyota  Corolla  2020          1.8         139  20000    Petrol   \n",
      "1   Honda    Civic  2019          2.0         158  22000    Petrol   \n",
      "2    Ford    Focus  2021          1.5         180  25000    Diesel   \n",
      "3     BMW     320i  2022          2.0         255  42000    Petrol   \n",
      "4   Tesla  Model 3  2023          0.0         283  50000  Electric   \n",
      "\n",
      "  transmission  \n",
      "0    Automatic  \n",
      "1       Manual  \n",
      "2    Automatic  \n",
      "3    Automatic  \n",
      "4    Automatic  \n",
      "\n",
      " Har bir ustunning ma'lumot turi:\n",
      "make             object\n",
      "model            object\n",
      "year              int64\n",
      "engine_size     float64\n",
      "horsepower        int64\n",
      "price             int64\n",
      "fuel_type        object\n",
      "transmission     object\n",
      "dtype: object\n",
      "\n",
      " Continuous (numerical) o‘zgaruvchilar:\n",
      "['year', 'engine_size', 'horsepower', 'price']\n",
      "\n",
      " Categorical o‘zgaruvchilar:\n",
      "['make', 'model', 'fuel_type', 'transmission']\n",
      "\n",
      " Sonli ustunlar statistikasi:\n",
      "              year  engine_size  horsepower        price\n",
      "count    10.000000    10.000000   10.000000     10.00000\n",
      "mean   2020.500000     1.470000  190.800000  29000.00000\n",
      "std       1.581139     0.827379   54.493221  11850.92589\n",
      "min    2018.000000     0.000000  139.000000  17000.00000\n",
      "25%    2019.250000     1.425000  148.500000  20250.00000\n",
      "50%    2020.500000     1.700000  169.000000  23500.00000\n",
      "75%    2021.750000     2.000000  237.500000  39250.00000\n",
      "max    2023.000000     2.400000  283.000000  50000.00000\n"
     ]
    }
   ],
   "source": [
    "import pandas as pd\n",
    "\n",
    "df = pd.read_csv(\"cars.csv\")\n",
    "\n",
    "print(\"Dastlabki ma'lumotlar:\")\n",
    "print(df.head())\n",
    "\n",
    "print(\"\\n Har bir ustunning ma'lumot turi:\")\n",
    "print(df.dtypes)\n",
    "\n",
    "numerical_vars = df.select_dtypes(include=['int64', 'float64']).columns\n",
    "categorical_vars = df.select_dtypes(include=['object']).columns\n",
    "\n",
    "print(\"\\n Continuous (numerical) o‘zgaruvchilar:\")\n",
    "print(numerical_vars.tolist())\n",
    "\n",
    "print(\"\\n Categorical o‘zgaruvchilar:\")\n",
    "print(categorical_vars.tolist())\n",
    "\n",
    "print(\"\\n Sonli ustunlar statistikasi:\")\n",
    "print(df.describe())\n"
   ]
  },
  {
   "cell_type": "code",
   "execution_count": null,
   "id": "43a86898-ed7d-4ef9-9eea-ec2b98d7c0d7",
   "metadata": {},
   "outputs": [],
   "source": []
  }
 ],
 "metadata": {
  "kernelspec": {
   "display_name": "Python 3 (ipykernel)",
   "language": "python",
   "name": "python3"
  },
  "language_info": {
   "codemirror_mode": {
    "name": "ipython",
    "version": 3
   },
   "file_extension": ".py",
   "mimetype": "text/x-python",
   "name": "python",
   "nbconvert_exporter": "python",
   "pygments_lexer": "ipython3",
   "version": "3.13.7"
  }
 },
 "nbformat": 4,
 "nbformat_minor": 5
}
