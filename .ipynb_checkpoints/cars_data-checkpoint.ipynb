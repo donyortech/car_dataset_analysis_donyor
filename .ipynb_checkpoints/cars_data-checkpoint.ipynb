{
 "cells": [
  {
   "cell_type": "code",
   "execution_count": 2,
   "id": "6a47e78c-3c99-4bab-a38c-4588436e13de",
   "metadata": {
    "scrolled": true
   },
   "outputs": [
    {
     "name": "stdout",
     "output_type": "stream",
     "text": [
      "<class 'pandas.core.frame.DataFrame'>\n",
      "RangeIndex: 301 entries, 0 to 300\n",
      "Data columns (total 9 columns):\n",
      " #   Column         Non-Null Count  Dtype  \n",
      "---  ------         --------------  -----  \n",
      " 0   Car_Name       301 non-null    object \n",
      " 1   Year           301 non-null    int64  \n",
      " 2   Selling_Price  301 non-null    float64\n",
      " 3   Present_Price  301 non-null    float64\n",
      " 4   Kms_Driven     301 non-null    int64  \n",
      " 5   Fuel_Type      301 non-null    object \n",
      " 6   Seller_Type    301 non-null    object \n",
      " 7   Transmission   301 non-null    object \n",
      " 8   Owner          301 non-null    int64  \n",
      "dtypes: float64(2), int64(3), object(4)\n",
      "memory usage: 21.3+ KB\n"
     ]
    }
   ],
   "source": [
    "import pandas as pd\n",
    "\n",
    "# Load dataset\n",
    "df = pd.read_csv(\"cars.csv\")\n",
    "\n",
    "# Show basic info\n",
    "df.info()"
   ]
  },
  {
   "cell_type": "code",
   "execution_count": 3,
   "id": "ccb48339-5e8b-41e4-91dc-2b06fed18d37",
   "metadata": {},
   "outputs": [],
   "source": [
    "continuous_vars = ['Selling_Price', 'Present_Price', 'Kms_Driven', 'Year']"
   ]
  },
  {
   "cell_type": "code",
   "execution_count": 4,
   "id": "e505f020-2b39-4581-ba82-2f2ed1fda694",
   "metadata": {},
   "outputs": [],
   "source": [
    "categorical_vars = ['Car_Name', 'Fuel_Type', 'Seller_Type', 'Transmission']\n"
   ]
  },
  {
   "cell_type": "code",
   "execution_count": null,
   "id": "64fe6f2a-5914-4014-b37a-73c58a374247",
   "metadata": {},
   "outputs": [],
   "source": []
  }
 ],
 "metadata": {
  "kernelspec": {
   "display_name": "Python 3 (ipykernel)",
   "language": "python",
   "name": "python3"
  },
  "language_info": {
   "codemirror_mode": {
    "name": "ipython",
    "version": 3
   },
   "file_extension": ".py",
   "mimetype": "text/x-python",
   "name": "python",
   "nbconvert_exporter": "python",
   "pygments_lexer": "ipython3",
   "version": "3.13.7"
  }
 },
 "nbformat": 4,
 "nbformat_minor": 5
}
